{
 "cells": [
  {
   "cell_type": "markdown",
   "id": "f20fbe67-b2cd-4155-b52e-e9902ff5d43e",
   "metadata": {},
   "source": [
    "#  Data Analyst Portfolio Project - Excercise Analyst with Power BI\n",
    "\n",
    "the purpose of this project is to check my daily activity"
   ]
  },
  {
   "cell_type": "markdown",
   "id": "e103eddc-a2a7-45ff-885e-877eda06233b",
   "metadata": {},
   "source": [
    "### Table in Excel and Power BI\n",
    "<img src='data_act.png'\n",
    "    style=\"width:450px; float: left; margin: 0 20px 20px 20px;\"></img>\n",
    "<img src='pb_act.png'\n",
    "    style=\"width:450px; float: left; margin: 0 20px 20px 20px;\"></img>\n",
    "\n",
    "![purple-divider](https://user-images.githubusercontent.com/7065401/52071927-c1cd7100-2562-11e9-908a-dde91ba14e59.png)\n",
    "\n",
    "### Model and Dashboard\n",
    "<img src='mod.png'\n",
    "    style=\"width:450px; float: left; margin: 0 20px 20px 20px;\"></img>\n",
    "<img src='dash.png'\n",
    "    style=\"width:450px; float: left; margin: 0 20px 20px 20px;\"></img>\n"
   ]
  },
  {
   "cell_type": "markdown",
   "id": "c430dc8c-bbb0-486c-9e4c-a8dce30f17e2",
   "metadata": {},
   "source": [
    "## Business Request & User Stories\n",
    "\n",
    "The business request for this data analyst project was an executive report for stages managers. Based on the request that was made from the business we following user stories were defined to fulfill delivery and ensure that acceptance criteria’s were maintained throughout the project."
   ]
  },
  {
   "cell_type": "markdown",
   "id": "9cb43833-d138-440e-8392-6fc3919f9060",
   "metadata": {},
   "source": [
    "| # | As a (role)  | I want (request/demand) | So that i (user value) | Acceptance Criteria   |\n",
    "|-:|:-:|:-|:-|:------|\n",
    "| 1 | Exercise enthusiast | I want to track my steps | To ensure I get enough activity | A Power BI dashboard which lets me get an easy nd quick overview of my exercise data.|"
   ]
  },
  {
   "cell_type": "markdown",
   "id": "a36cb270-d9f0-4f79-9064-b959dbac681d",
   "metadata": {},
   "source": [
    "## Data Collection & Table Structures\n",
    "The necessary data were collected and structured in Excel files. The exercise data was organized as a fact table and date & activity were organized as dimension tables for filtering data.\n",
    "\n",
    "### FACT_ Exercise\n",
    "\n",
    "Exercise data were recorded every single date and the focus was on amount of steps. The date column is used to connect to the date dimension and Activity_FK is used to connect to the activity dimension.\n",
    "\n",
    "<img src='data_act.png'\n",
    "    style=\"width:450px; float: left; margin: 0 20px 20px 20px;\"></img>\n",
    "\n",
    "<img src='fact_act.png'\n",
    "    style=\"width:200px; float: left; margin: 0 20px 20px 20px;\"></img>\n"
   ]
  },
  {
   "cell_type": "markdown",
   "id": "d1dfbeec-61df-4df7-b6bd-3b09cbb323d8",
   "metadata": {},
   "source": [
    "Following steps were done in Power BI to transform this table to be ready for analysis purposes:\n",
    "\n",
    "- Promoted row so that the data so that the first row was used as headers.\n",
    "- Removed unnecessary columns.\n",
    "- Changed column to have the correct type (date, numbers etc.) for later use in calculations.\n",
    "\n",
    "\n"
   ]
  },
  {
   "cell_type": "markdown",
   "id": "eb287ea5-492e-4510-bd7e-74716e6da346",
   "metadata": {},
   "source": [
    "### DIM_Activity\n",
    "\n",
    "DIM_Activity describes two different types of activities: Walking and running. On some days walking was chosen as a preferred activity time, and other days running were performed. Some minor data issues in this table was later cleaned up and corrected.\n",
    "\n",
    "<img src='dim_act.png'\n",
    "    style=\"width:450px; float: left; margin: 0 20px 20px 20px;\"></img>\n",
    "\n",
    "<img src='dim_dt.png'\n",
    "    style=\"width:200px; float: left; margin: 0 20px 20px 20px;\"></img>\n"
   ]
  },
  {
   "cell_type": "markdown",
   "id": "1c802b0c-b061-4b60-9d7a-be8c1222af4f",
   "metadata": {},
   "source": [
    "Following steps were done in Power BI to transform this table to be ready for analysis purposes:\n",
    "\n",
    "- Promoted row so that the data so that the first row was used.\n",
    "- Renamed necessary columns to give better business friendly names.\n",
    "- Capitalized each for in the description column for improved data quality.\n"
   ]
  },
  {
   "cell_type": "markdown",
   "id": "b4b6f892-87be-4aa8-90dd-d026637e8e8f",
   "metadata": {},
   "source": [
    "### DIM_Date\n",
    "\n",
    "The DIM_Date dimension is based on a simple table with dates, where date was used to derive several new fields which would be used in the exercise analysis dashboard:\n",
    "\n",
    "- Promoted row so that the data so that the first row was used.\n",
    "- Changed the column to DateType\n",
    "- Inserted several new columns based on the date.\n",
    "\n",
    "<img src='dim_dt2.png'\n",
    "    style=\"width:200px; float: left; margin: 0 20px 20px 20px;\"></img>\n"
   ]
  },
  {
   "cell_type": "markdown",
   "id": "76892588-6382-4faf-9c3e-0ca3924e38b7",
   "metadata": {},
   "source": [
    "## Data Model\n",
    "Below is a screenshot of the data model after cleansed and prepared tables were read into Power BI.\n",
    "\n",
    "We can see that the FACT table is connected to two dimension tables with the correct relationship established (1 to *) between dimension and fact tables.\n",
    "\n",
    "<img src='mod.png'\n",
    "    style=\"width:450px; float: left; margin: 0 20px 20px 20px;\"></img>\n"
   ]
  },
  {
   "cell_type": "markdown",
   "id": "40c6f5b5-0595-4a12-a103-b7799565883f",
   "metadata": {},
   "source": [
    "## Calculations\n",
    "The following calculations were created in the Power BI reports using DAX (Data Analysis Expressions). To lessen the extent of coding, the re-use of measures (measure branching) was emphasized:\n",
    "\n",
    "- Average Steps – This is a simple AVERAGE function around the Steps column:\n",
    "AVERAGE( FACT_Activity[Steps] )\n",
    "\n",
    "- Total Steps – This is a simple SUM function around the Steps column:\n",
    "SUM( FACT_Activity[Steps] )\n",
    "\n",
    "- Steps (Running) – This is a calculation to isolate the Total Steps measure by filtering it by the “Running Activity”:\n",
    "\n",
    "CALCULATE(\n",
    "[Total Steps],\n",
    "DIM_Activity[ActivityName] = “Running”\n",
    ")\n",
    "\n",
    "- Steps (Walking) – This is a calculation to isolate the Total Steps measure by filtering it by the “Walking Activity”:\n",
    "\n",
    "CALCULATE(\n",
    "[Total Steps],\n",
    "DIM_Activity[ActivityName] = “Walking”\n",
    ")\n",
    "\n",
    "- Running % of Total – Here we are using two measures from before to find the % of steps that were done by running:\n",
    "\n",
    "DIVIDE(\n",
    "[Steps (Running)],\n",
    "[Total Steps]\n",
    ")\n",
    "\n",
    "- Walking % of Total – Here we are using two measures from before to find the % of steps that were done by walking:\n",
    "\n",
    "DIVIDE(\n",
    "[Steps (Walking)],\n",
    "[Total Steps]\n",
    ")\n",
    "\n",
    "- Total Steps (Cumulative) – Here we are re-using the Total Steps measure and using different functions to cumulatively calculate the total steps:\n",
    "\n",
    "CALCULATE(\n",
    "[Total Steps],\n",
    "FILTER(\n",
    "ALLSELECTED( DIM_Date ),\n",
    "DIM_Date[Date]\n",
    "<= MAX( FACT_Activity[Date] )\n",
    ")\n",
    ")\n",
    "\n",
    "- Week Over Week % Change Steps – Here we are using the Total Steps measure and using different functions, with variables, to calculate the Week over Week % Change of Steps:\n",
    "\n",
    "VAR CurrentWeek =\n",
    "CALCULATE(\n",
    "[Total Steps],\n",
    "FILTER(\n",
    "ALL( DIM_Date ),\n",
    "DIM_Date[Week of Year]\n",
    "= SELECTEDVALUE( DIM_Date[Week of Year] )\n",
    ")\n",
    ")\n",
    "VAR PreviousWeek =\n",
    "CALCULATE(\n",
    "[Total Steps],\n",
    "FILTER(\n",
    "ALL( DIM_Date ),\n",
    "DIM_Date[Week of Year]\n",
    "= SELECTEDVALUE( DIM_Date[Week of Year] ) – 1\n",
    ")\n",
    ")\n",
    "RETURN\n",
    "DIVIDE(\n",
    "( CurrentWeek – PreviousWeek ),\n",
    "PreviousWeek\n",
    ")"
   ]
  },
  {
   "cell_type": "markdown",
   "id": "ae5db3c1-948c-4ac5-ba25-e75fbeeece83",
   "metadata": {},
   "source": [
    "## Exercise Analysis Dashboard\n",
    "The finish report consists of two different dashboards. One is more of a basic version, while the second version contains more advanced visualizations. To enable these visualizations the calculation language DAX (Data Analysis Expressions) were used.\n",
    "\n",
    "\n",
    "Basic and advance Version\n",
    "\n",
    "<img src='dash_biasa.png'\n",
    "    style=\"width:450px; float: left; margin: 0 20px 20px 20px;\"></img>\n",
    "<img src='dash.png'\n",
    "    style=\"width:450px; float: right; margin: 0 20px 20px 20px;\"></img>\n",
    "\n"
   ]
  },
  {
   "cell_type": "code",
   "execution_count": null,
   "id": "53f3cec6-31bd-4e56-b58e-9487d2152957",
   "metadata": {},
   "outputs": [],
   "source": []
  },
  {
   "cell_type": "code",
   "execution_count": null,
   "id": "4ee1a562-a16a-4de0-b788-6d2d2d858199",
   "metadata": {},
   "outputs": [],
   "source": []
  },
  {
   "cell_type": "code",
   "execution_count": null,
   "id": "d3260d99-0f46-423e-9e19-21cbe7afcd90",
   "metadata": {},
   "outputs": [],
   "source": []
  }
 ],
 "metadata": {
  "kernelspec": {
   "display_name": "Python 3 (ipykernel)",
   "language": "python",
   "name": "python3"
  },
  "language_info": {
   "codemirror_mode": {
    "name": "ipython",
    "version": 3
   },
   "file_extension": ".py",
   "mimetype": "text/x-python",
   "name": "python",
   "nbconvert_exporter": "python",
   "pygments_lexer": "ipython3",
   "version": "3.9.1"
  }
 },
 "nbformat": 4,
 "nbformat_minor": 5
}
